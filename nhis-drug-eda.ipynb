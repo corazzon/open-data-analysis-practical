{
 "cells": [
  {
   "cell_type": "markdown",
   "metadata": {
    "id": "TXYdHTR9HCOE"
   },
   "source": [
    "## 들어가기 전에\n",
    "* pandas의 DataFrame을 이용해 데이터를 다루고 시각화하는 방법\n",
    "* 빅데이터를 대상으로 원하는 데이터를 추출하는 방법\n",
    "* 결측치 처리, 자료형 변환 등의 데이터 전처리\n",
    "* 복합적인 정보를 가지고 있는 변수를 이용해 파생변수 만들기\n",
    "* 코드로 표현된 변수를 알아보기 쉽게 문자열 형태로 변환하기\n",
    "* 특정 의약품에 대해 시각화하고 상세 정보 조사하기\n",
    "\n",
    "## 핵심 개념\n",
    "* 데이터 샘플링\n",
    "* 데이터 전처리\n",
    "* 파생변수\n",
    "* 데이터 시각화"
   ]
  },
  {
   "cell_type": "markdown",
   "metadata": {
    "id": "C-28enc9MDaZ"
   },
   "source": [
    "## 의약품 처방정보\n",
    "* https://www.data.go.kr/data/15007117/fileData.do\n",
    "\n",
    "* 의약품처방정보는 국민건강보험 가입자 중 의약품처방이력이 있는 각 연도별 수진자 100만 명에 대한 기본정보(성, 연령대, 시도코드 등)와 의약품처방전별 개별 의약품에 대한 처방내역(요양개시일자, 1회투약량, 1일투약량, 총투여일수 등)으로 구성된 개방데이터입니다.\n",
    "\n",
    "* <img src=\"https://i.imgur.com/hsrpJp4.png\">\n",
    "\n",
    "* 약품일반성분명코드\n",
    "* http://www.hira.or.kr/rf/medicine/getHistoryList.do?pgmid=HIRAA030035020000\n",
    "\n",
    "* 주성분코드부여방법\n",
    "* https://www.health.kr/drug_info/basedrug/main_ingredient.html"
   ]
  },
  {
   "cell_type": "markdown",
   "metadata": {
    "id": "SUKFQ-UpJjaE"
   },
   "source": [
    "## 라이브러리 로드\n",
    "### pandas\n",
    "* 데이터분석 라이브러리입니다.\n",
    "* https://pandas.pydata.org/\n",
    "\n",
    "### numpy\n",
    "* 수치계산 라이브러리입니다.\n",
    "* https://numpy.org/\n",
    "\n",
    "### matplotlib.pyplot\n",
    "* matplotlib.pyplot은 기본적인 시각화를 지원하는 python 라이브러리입니다.\n",
    "* https://matplotlib.org/stable/api/_as_gen/matplotlib.pyplot.html\n",
    "\n",
    "### seaborn\n",
    "* seaborn은 matplotlib에 기반하여 고수준 API와 통계 시각화 라이브러리입니다. \n",
    "* https://seaborn.pydata.org/"
   ]
  },
  {
   "cell_type": "code",
   "execution_count": null,
   "metadata": {
    "id": "776NWs46QUIM"
   },
   "outputs": [],
   "source": [
    "# pandas\n",
    "# numpy\n",
    "# matplotlib.pyplot\n",
    "# seaborn\n",
    "import pandas as pd\n",
    "import numpy as np\n",
    "import matplotlib.pyplot as plt\n",
    "import seaborn as sns"
   ]
  },
  {
   "cell_type": "markdown",
   "metadata": {
    "id": "XRfe3_uXJRes"
   },
   "source": [
    "## 한글폰트 설정"
   ]
  },
  {
   "cell_type": "code",
   "execution_count": null,
   "metadata": {
    "id": "5AmE4ZKU_CBX"
   },
   "outputs": [],
   "source": [
    "# 한글폰트 사용을 위해 설치\n",
    "# !pip install koreanize-matplotlib"
   ]
  },
  {
   "cell_type": "code",
   "execution_count": null,
   "metadata": {
    "colab": {
     "base_uri": "https://localhost:8080/"
    },
    "executionInfo": {
     "elapsed": 4544,
     "status": "ok",
     "timestamp": 1640931848590,
     "user": {
      "displayName": "김진연",
      "photoUrl": "https://lh3.googleusercontent.com/a/default-user=s64",
      "userId": "15053695256072630202"
     },
     "user_tz": -540
    },
    "id": "wI4Bv-imJEu5",
    "outputId": "1718d8a2-8349-4107-9042-35e1a0e78954"
   },
   "outputs": [],
   "source": [
    "import koreanize_matplotlib\n",
    "\n",
    "# 그래프에 retina display 적용\n",
    "%config InlineBackend.figure_format = 'retina'\n",
    "pd.Series([1, -1]).plot(title=\"한글\", figsize=(5, 1))"
   ]
  },
  {
   "cell_type": "markdown",
   "metadata": {
    "id": "UGNhR09W0Nij"
   },
   "source": [
    "## 데이터 불러오기"
   ]
  },
  {
   "cell_type": "code",
   "execution_count": null,
   "metadata": {
    "colab": {
     "base_uri": "https://localhost:8080/",
     "height": 485
    },
    "executionInfo": {
     "elapsed": 6557,
     "status": "ok",
     "timestamp": 1640931948924,
     "user": {
      "displayName": "김진연",
      "photoUrl": "https://lh3.googleusercontent.com/a/default-user=s64",
      "userId": "15053695256072630202"
     },
     "user_tz": -540
    },
    "id": "rYqu0oZGSxu3",
    "outputId": "de06de35-c0d4-41f8-b511-773bc484f25c"
   },
   "outputs": [],
   "source": [
    "# df = pd.read_csv(\"nhis_drug_sample_2020_3.csv\")\n",
    "df = pd.read_csv(\"https://raw.githubusercontent.com/corazzon/open-data-analysis-practical/main/nhis_drug_sample_2020_3.csv\")\n",
    "df.shape"
   ]
  },
  {
   "cell_type": "code",
   "execution_count": null,
   "metadata": {
    "colab": {
     "base_uri": "https://localhost:8080/",
     "height": 250
    },
    "executionInfo": {
     "elapsed": 4,
     "status": "ok",
     "timestamp": 1640931986150,
     "user": {
      "displayName": "김진연",
      "photoUrl": "https://lh3.googleusercontent.com/a/default-user=s64",
      "userId": "15053695256072630202"
     },
     "user_tz": -540
    },
    "id": "E5OTL8uA1ADr",
    "outputId": "485f394f-f9f5-4cf7-8464-31b745748714"
   },
   "outputs": [],
   "source": [
    "# 처음 n개의 행을 반환합니다.\n",
    "# 지정하지 않으면 5개의 행을 반환합니다.\n",
    "df.head(2)"
   ]
  },
  {
   "cell_type": "code",
   "execution_count": null,
   "metadata": {
    "colab": {
     "base_uri": "https://localhost:8080/",
     "height": 268
    },
    "executionInfo": {
     "elapsed": 3,
     "status": "ok",
     "timestamp": 1640931987034,
     "user": {
      "displayName": "김진연",
      "photoUrl": "https://lh3.googleusercontent.com/a/default-user=s64",
      "userId": "15053695256072630202"
     },
     "user_tz": -540
    },
    "id": "XAAjTgbv1ECJ",
    "outputId": "513a2a02-42f5-4be8-9504-ea7cf4e90768"
   },
   "outputs": [],
   "source": [
    "# 마지막 n개의 행을 반환합니다.\n",
    "# 지정하지 않으면 5개의 행을 반환합니다.\n",
    "df.tail(2)"
   ]
  },
  {
   "cell_type": "markdown",
   "metadata": {},
   "source": [
    "## 데이터 요약하기"
   ]
  },
  {
   "cell_type": "code",
   "execution_count": null,
   "metadata": {
    "colab": {
     "base_uri": "https://localhost:8080/"
    },
    "executionInfo": {
     "elapsed": 267,
     "status": "ok",
     "timestamp": 1640931983520,
     "user": {
      "displayName": "김진연",
      "photoUrl": "https://lh3.googleusercontent.com/a/default-user=s64",
      "userId": "15053695256072630202"
     },
     "user_tz": -540
    },
    "id": "R8ynVGAZ0Rwz",
    "outputId": "367faa25-1569-418f-cccf-a767b6f3ae06"
   },
   "outputs": [],
   "source": [
    "# DataFrame의 요약을 봅니다.\n",
    "df.info()"
   ]
  },
  {
   "cell_type": "code",
   "execution_count": null,
   "metadata": {
    "colab": {
     "base_uri": "https://localhost:8080/"
    },
    "executionInfo": {
     "elapsed": 745,
     "status": "ok",
     "timestamp": 1640931988957,
     "user": {
      "displayName": "김진연",
      "photoUrl": "https://lh3.googleusercontent.com/a/default-user=s64",
      "userId": "15053695256072630202"
     },
     "user_tz": -540
    },
    "id": "RUBGY_HS1GcE",
    "outputId": "85fad9bc-61f1-4f0e-a59b-4a033b63772b"
   },
   "outputs": [],
   "source": [
    "# 지정된 DataFrame의 유일값의 빈도수를 계산합니다.\n",
    "df.nunique()"
   ]
  },
  {
   "cell_type": "markdown",
   "metadata": {
    "id": "3mF1jT_Q11Jd"
   },
   "source": [
    "## 데이터 전처리\n",
    "* 데이터 전처리란 데이터에 적절한 작업을 함으로써 활용하기 좋은 형태로 만드는 것입니다.\n",
    "* 결측치를 탐색하고 처리하는 것, 적절하지 못한 자료형을 바꾸는 것이 전처리에 포함됩니다."
   ]
  },
  {
   "cell_type": "code",
   "execution_count": null,
   "metadata": {
    "colab": {
     "base_uri": "https://localhost:8080/"
    },
    "executionInfo": {
     "elapsed": 401,
     "status": "ok",
     "timestamp": 1640931990953,
     "user": {
      "displayName": "김진연",
      "photoUrl": "https://lh3.googleusercontent.com/a/default-user=s64",
      "userId": "15053695256072630202"
     },
     "user_tz": -540
    },
    "id": "pgMsWHBk5we9",
    "outputId": "a1313d1f-96f0-4bdf-bbc1-5e23216b89e2"
   },
   "outputs": [],
   "source": [
    "# 결측치의 합을 출력합니다.\n",
    "# 결측치의 합을 출력하면 결측치가 몇 개 있는지 확인할 수 있습니다.\n",
    "df.isnull().sum()"
   ]
  },
  {
   "cell_type": "markdown",
   "metadata": {
    "id": "MbKSl02vMaAL"
   },
   "source": [
    "### 결측치 처리\n",
    "* \"약품일반성분명코드\" 결측치 확인\n",
    "* 결측치를 처리하는 방법은 여러 가지가 있습니다.\n",
    "* 결측치를 포함한 행을 버리거나, 최빈값이나 평균값으로 보간하는 방법 등이 있습니다.\n",
    "* 이번에는 결측치를 포함한 행을 버리겠습니다."
   ]
  },
  {
   "cell_type": "code",
   "execution_count": null,
   "metadata": {
    "colab": {
     "base_uri": "https://localhost:8080/",
     "height": 485
    },
    "executionInfo": {
     "elapsed": 1353,
     "status": "ok",
     "timestamp": 1640931993834,
     "user": {
      "displayName": "김진연",
      "photoUrl": "https://lh3.googleusercontent.com/a/default-user=s64",
      "userId": "15053695256072630202"
     },
     "user_tz": -540
    },
    "id": "OUxNrEUi52V8",
    "outputId": "69359668-b4e5-4b1c-b3d9-838b3a19c2b0"
   },
   "outputs": [],
   "source": [
    "# 결측치가 포함된 행은 삭제하겠습니다.\n",
    "# 결과를 확인합니다.\n",
    "df = df.dropna()\n",
    "df.shape"
   ]
  },
  {
   "cell_type": "markdown",
   "metadata": {},
   "source": [
    "### 사용하지 않는 데이터 제거"
   ]
  },
  {
   "cell_type": "code",
   "execution_count": null,
   "metadata": {},
   "outputs": [],
   "source": [
    "df = df.drop(columns=\"데이터 공개일자\").copy()\n",
    "df.shape"
   ]
  },
  {
   "cell_type": "markdown",
   "metadata": {
    "id": "92l1bRpUNN7K"
   },
   "source": [
    "### 데이터 타입 변경\n",
    "* \"요양개시일자\"는 연-월-일을 나타내는 날짜 데이터입니다.\n",
    "* 그러나 info() 메서드를 통해 확인한 결과 자료형이 int 자료형입니다.\n",
    "* pandas에서 지원하는 날짜형 데이터형으로 변환하겠습니다."
   ]
  },
  {
   "cell_type": "code",
   "execution_count": null,
   "metadata": {
    "colab": {
     "base_uri": "https://localhost:8080/",
     "height": 250
    },
    "executionInfo": {
     "elapsed": 2,
     "status": "ok",
     "timestamp": 1640931999094,
     "user": {
      "displayName": "김진연",
      "photoUrl": "https://lh3.googleusercontent.com/a/default-user=s64",
      "userId": "15053695256072630202"
     },
     "user_tz": -540
    },
    "id": "MxQ0568t31_Z",
    "outputId": "85f9d25c-23b4-4405-c44d-2afcd0329d47"
   },
   "outputs": [],
   "source": [
    "# \"요양개시일자\" 변수를 pandas의 datetime 자료형으로 바꾸겠습니다.\n",
    "# \"요양개시일자\" 변수의 format은 \"%Y%m%d\"입니다.\n",
    "# %Y는 4글자로 된 연도 데이터를 의미합니다. %y는 2글자로 된 연도 데이터를 의미합니다.\n",
    "# %m, %d는 2글자로 된 월, 일 데이터를 의미합니다.\n",
    "# 데이터 윗부분 일부 행을 확인합니다.\n",
    "# 데이터 윗부분 일부 행을 확인합니다.\n",
    "df['요양개시일자'] = pd.to_datetime(df['요양개시일자'])"
   ]
  },
  {
   "cell_type": "code",
   "execution_count": null,
   "metadata": {
    "colab": {
     "base_uri": "https://localhost:8080/"
    },
    "executionInfo": {
     "elapsed": 2,
     "status": "ok",
     "timestamp": 1640932000447,
     "user": {
      "displayName": "김진연",
      "photoUrl": "https://lh3.googleusercontent.com/a/default-user=s64",
      "userId": "15053695256072630202"
     },
     "user_tz": -540
    },
    "id": "b9talhzS3asw",
    "outputId": "6ed07dfb-e33a-4609-dea3-df738893f87d"
   },
   "outputs": [],
   "source": [
    "# df를 요약합니다.\n",
    "df.info()"
   ]
  },
  {
   "cell_type": "markdown",
   "metadata": {
    "id": "0wo8vf5oOrka"
   },
   "source": [
    "* \"요양개시일자\"와 \"데이터 공개일자\"의 데이터 자료형이 datetime64[ns]로 바뀐 것을 확인할 수 있습니다.\n",
    "* 날짜형 데이터로 변환하면 시간의 흐름에 따라 분석하거나 시각화하는 것이 더 편리해집니다."
   ]
  },
  {
   "cell_type": "markdown",
   "metadata": {
    "id": "YvlVPvTB6Zp2"
   },
   "source": [
    "### 파생변수 만들기 - 월, 일, 요일\n",
    "* 변수를 나누거나 합치거나 다른 형태로 바꿔서 분석하면 더 편리한 경우가 있습니다.\n",
    "* 원래 있던 변수에서 새로 생겨난 변수를 파생변수라고 합니다.\n",
    "* \"요양개시일자\" 변수를 다양하게 분석할 수 있도록 나누겠습니다."
   ]
  },
  {
   "cell_type": "code",
   "execution_count": null,
   "metadata": {
    "id": "kLR6PuUJ3l7_"
   },
   "outputs": [],
   "source": [
    "# 연월일 데이터는 여러 변수로 나뉠 수 있습니다.\n",
    "# 월, 일, 요일 코드, 영문 요일로 변수를 나누겠습니다.\n",
    "# \"요양개시일자\" 변수에서 월을 새로운 변수로 만듭니다.\n",
    "# \"요양개시일자\" 변수에서 일을 새로운 변수로 만듭니다.\n",
    "# \"요양개시일자\" 변수에서 요일을 새로운 변수로 만듭니다.\n",
    "# 요일은 0~6의 숫자가 월~일에 대응되는 형태로 변환됩니다.\n",
    "# \"요양개시일자\" 변수에서 영문 요일을 새로운 변수로 만듭니다.\n",
    "df['월'] = df['요양개시일자'].dt.month\n",
    "df['일'] = df['요양개시일자'].dt.day\n",
    "df['요일'] = df['요양개시일자'].dt.dayofweek\n",
    "df['영문요일'] = df[\"요양개시일자\"].dt.day_name()"
   ]
  },
  {
   "cell_type": "code",
   "execution_count": null,
   "metadata": {
    "colab": {
     "base_uri": "https://localhost:8080/",
     "height": 268
    },
    "executionInfo": {
     "elapsed": 403,
     "status": "ok",
     "timestamp": 1640932009451,
     "user": {
      "displayName": "김진연",
      "photoUrl": "https://lh3.googleusercontent.com/a/default-user=s64",
      "userId": "15053695256072630202"
     },
     "user_tz": -540
    },
    "id": "7LhDLhna7TsN",
    "outputId": "ef117952-761f-452c-b7be-34b0ba8a0fb6"
   },
   "outputs": [],
   "source": [
    "# df의 윗부분 일부 행을 확인합니다.\n",
    "df.head(2)"
   ]
  },
  {
   "cell_type": "markdown",
   "metadata": {
    "id": "lCFLdcc5SCaa"
   },
   "source": [
    "* column이 많이 늘어나면 한번에 모든 column이 보이지 않습니다.\n",
    "* 최대로 보이는 column의 개수를 지정하겠습니다."
   ]
  },
  {
   "cell_type": "code",
   "execution_count": null,
   "metadata": {
    "id": "WO39Uerh8IV-"
   },
   "outputs": [],
   "source": [
    "# max_columns 의 수를 지정합니다.\n",
    "pd.options.display.max_columns = None"
   ]
  },
  {
   "cell_type": "markdown",
   "metadata": {
    "id": "3EDzLSqBR5-A"
   },
   "source": [
    "### 파생변수 만들기 - 시도명\n",
    "* \"시도코드\" 변수는 숫자로 되어 있어 어느 지역인지 알기 어렵습니다.\n",
    "* 문자열 정보로 변환하겠습니다.\n",
    "\n",
    "### map 메서드\n",
    "* map 메서드를 이용하면 DataFrame의 여러 값을 편리하게 변환할 수 있습니다.\n",
    "* 여기서 map 메서드란 pandas의 pandas.Series.map을 의미합니다.\n",
    "* 입력 대응에 따라 Series의 값을 매핑합니다.\n",
    "* 매핑은 일정한 규칙에 따라 반복 가능한 객체를 변환시키는 것으로 이해하면 됩니다.\n",
    "    * 반복 가능한 객체란 내부적으로 요소를 여러 개 가지고 있어 값을 차례대로 꺼낼 수 있는 객체입니다.\n",
    "* function, dict 등을 인자로 받을 수 있습니다."
   ]
  },
  {
   "cell_type": "code",
   "execution_count": null,
   "metadata": {
    "colab": {
     "base_uri": "https://localhost:8080/",
     "height": 54
    },
    "executionInfo": {
     "elapsed": 256,
     "status": "ok",
     "timestamp": 1640932015180,
     "user": {
      "displayName": "김진연",
      "photoUrl": "https://lh3.googleusercontent.com/a/default-user=s64",
      "userId": "15053695256072630202"
     },
     "user_tz": -540
    },
    "id": "haernPQQ8aEH",
    "outputId": "a4f185a8-9e77-4bca-ef25-d1bd609ca855"
   },
   "outputs": [],
   "source": [
    "# 해당 데이터에서 사용하는 대한민국 시도코드 정보입니다.\n",
    "city = \"\"\"11 서울특별시\n",
    "42 강원도\n",
    "26 부산광역시\n",
    "43 충청북도\n",
    "27 대구광역시\n",
    "44 충청남도\n",
    "28 인천광역시\n",
    "45 전라북도\n",
    "29 광주광역시\n",
    "46 전라남도\n",
    "30 대전광역시\n",
    "47 경상북도\n",
    "31 울산광역시\n",
    "48 경상남도\n",
    "36 세종특별자치시\n",
    "49 제주특별자치도\n",
    "41 경기도\"\"\"\n",
    "city"
   ]
  },
  {
   "cell_type": "code",
   "execution_count": null,
   "metadata": {
    "colab": {
     "base_uri": "https://localhost:8080/"
    },
    "executionInfo": {
     "elapsed": 258,
     "status": "ok",
     "timestamp": 1640932016539,
     "user": {
      "displayName": "김진연",
      "photoUrl": "https://lh3.googleusercontent.com/a/default-user=s64",
      "userId": "15053695256072630202"
     },
     "user_tz": -540
    },
    "id": "p9Nao01g8op1",
    "outputId": "40935dbd-2ebc-4e1c-a4ef-fef9fc816091"
   },
   "outputs": [],
   "source": [
    "# 대한민국 시도코드 정보를 python의 dictionary 형태로 변환하겠습니다.\n",
    "# city를 개행문자를 기준으로 나눈 리스트로 바꿉니다.\n",
    "# 새로운 dict를 선언합니다.\n",
    "# for 문을 이용해 리스트 안의 내용을 하나씩 다룹니다.\n",
    "# 시도코드와 지역 이름이 띄어쓰기를 기준으로 구분되어 있습니다.\n",
    "# 띄어쓰기를 기준으로 분할하고 앞 단어는 key, 뒤 단어는 value가 되도록 dict에 삽입합니다.\n",
    "# 최종 dict를 확인합니다.\n",
    "city_list = city.split(\"\\n\")\n",
    "# 딕셔너리 만들기 방법 1) 반복문을 사용하는 방법\n",
    "city_name = {}\n",
    "for cl in city_list:\n",
    "    key = int(cl.split()[0])\n",
    "    val = cl.split()[1]\n",
    "    city_name[key] = val"
   ]
  },
  {
   "cell_type": "code",
   "execution_count": null,
   "metadata": {},
   "outputs": [],
   "source": [
    "# 딕셔너리 만들기 방법 2) 리스트 컴프리헨션을 사용하는 방법\n",
    "city_name = {int(cl.split()[0]) : cl.split()[1] for cl in city_list}\n",
    "city_name"
   ]
  },
  {
   "cell_type": "code",
   "execution_count": null,
   "metadata": {},
   "outputs": [],
   "source": [
    "\"11\" == 11"
   ]
  },
  {
   "cell_type": "code",
   "execution_count": null,
   "metadata": {
    "id": "ROF6ffJx88S4"
   },
   "outputs": [],
   "source": [
    "# map 메서드를 이용해 시도코드에 해당하는 시도명을 갖는 변수를 만듭니다.\n",
    "df[\"시도명\"] = df['시도코드'].map(city_name)"
   ]
  },
  {
   "cell_type": "code",
   "execution_count": null,
   "metadata": {},
   "outputs": [],
   "source": [
    "# map 대신 replace 를 사용하는 방법\n",
    "df[\"시도명\"] = df['시도코드'].replace(city_name)"
   ]
  },
  {
   "cell_type": "code",
   "execution_count": null,
   "metadata": {
    "colab": {
     "base_uri": "https://localhost:8080/",
     "height": 354
    },
    "executionInfo": {
     "elapsed": 282,
     "status": "ok",
     "timestamp": 1640932019099,
     "user": {
      "displayName": "김진연",
      "photoUrl": "https://lh3.googleusercontent.com/a/default-user=s64",
      "userId": "15053695256072630202"
     },
     "user_tz": -540
    },
    "id": "VCKukgmb9Go1",
    "outputId": "d3e8424d-ef8e-48cd-e7d3-079d7396d57b"
   },
   "outputs": [],
   "source": [
    "# df 윗부분 일부 행을 확인합니다.\n",
    "df[[\"시도코드\", \"시도명\"]].sample(5)"
   ]
  },
  {
   "cell_type": "markdown",
   "metadata": {
    "id": "DmD9hIaTTvds"
   },
   "source": [
    "### 파생변수 만들기 - 연령대\n",
    "* \"연령대코드(5세단위)\" 변수는 코드값으로 되어 있어 어느 연령대인지 알기 어렵습니다.\n",
    "* 각 코드에 해당하는 연령대를 갖는 변수를 새로 선언하겠습니다."
   ]
  },
  {
   "cell_type": "code",
   "execution_count": null,
   "metadata": {
    "colab": {
     "base_uri": "https://localhost:8080/",
     "height": 35
    },
    "executionInfo": {
     "elapsed": 3,
     "status": "ok",
     "timestamp": 1640932021417,
     "user": {
      "displayName": "김진연",
      "photoUrl": "https://lh3.googleusercontent.com/a/default-user=s64",
      "userId": "15053695256072630202"
     },
     "user_tz": -540
    },
    "id": "6qy3Wb6x9HuE",
    "outputId": "ada529bf-efe4-45dc-8ed2-1b55742620df"
   },
   "outputs": [],
   "source": [
    "# '연령대코드(5세단위)' 를 연령대로 나타낸 정보입니다.\n",
    "age_code = \"\"\"1 00~04세 \n",
    "2 05~09세\n",
    "3 10~14세\n",
    "4 15~19세\n",
    "5 20~24세\n",
    "6 25~29세\n",
    "7 30~34세\n",
    "8 35~39세\n",
    "9 40~44세\n",
    "10 45~49세\n",
    "11 50~54세\n",
    "12 55~59세\n",
    "13 60~64세\n",
    "14 65~69세\n",
    "15 70~74세\n",
    "16 75~79세\n",
    "17 80~84세\n",
    "18 85세+\"\"\"\n",
    "age_code"
   ]
  },
  {
   "cell_type": "code",
   "execution_count": null,
   "metadata": {
    "colab": {
     "base_uri": "https://localhost:8080/"
    },
    "executionInfo": {
     "elapsed": 2,
     "status": "ok",
     "timestamp": 1640932021812,
     "user": {
      "displayName": "김진연",
      "photoUrl": "https://lh3.googleusercontent.com/a/default-user=s64",
      "userId": "15053695256072630202"
     },
     "user_tz": -540
    },
    "id": "6_hOOH2d9UFm",
    "outputId": "2959bf48-4e16-4b20-9f43-6faa498fecfc"
   },
   "outputs": [],
   "source": [
    "# 연령대코드 정보를 python의 dictionary 형태로 변환하겠습니다.\n",
    "# age_code를 개행문자를 기준으로 나눈 리스트로 바꿉니다.\n",
    "# 새로운 dict를 선언합니다.\n",
    "# for 문을 이용해 리스트 안의 내용을 하나씩 다룹니다.\n",
    "# 연령대코드와 연령대가 띄어쓰기를 기준으로 구분되어 있습니다.\n",
    "# 띄어쓰기를 기준으로 분할하고 앞 단어는 key, 뒤 단어는 value가 되도록 dict에 삽입합니다.\n",
    "# 최종 dict를 확인합니다.\n",
    "age_list = age_code.split(\"\\n\")\n",
    "age_dict = {}\n",
    "\n",
    "age_dict = {int(al.split()[0]) : al.split()[1] for al in age_list}\n",
    "age_dict"
   ]
  },
  {
   "cell_type": "code",
   "execution_count": null,
   "metadata": {
    "id": "7YLDs-pG9Vd5"
   },
   "outputs": [],
   "source": [
    "# map 메서드를 이용해 연령대코드에 해당하는 연령대 정보를 갖는 변수를 만듭니다.\n",
    "df[\"연령대\"] = df[\"연령대코드(5세단위)\"].map(age_dict)\n",
    "df.head(2)"
   ]
  },
  {
   "cell_type": "markdown",
   "metadata": {
    "id": "HACKB9rdT567"
   },
   "source": [
    "### 파생변수 만들기 - 성별\n",
    "* \"성별코드\" 변수는 남자, 여자를 숫자로 나타내고 있습니다.\n",
    "* 남자, 여자로 구분된 새로운 \"gender\" 변수를 선언하겠습니다."
   ]
  },
  {
   "cell_type": "code",
   "execution_count": null,
   "metadata": {
    "id": "SZ0fTRJdEYR6"
   },
   "outputs": [],
   "source": [
    "# 성별 코드에서 1은 남자, 2는 여자를 의미합니다.\n",
    "# 위의 정보를 반영하는 새로운 dict를 선언하겠습니다.\n",
    "# map 메서드를 이용하여 성별 정보를 담고 있는 \"gender\" 변수를 선언하겠습니다.\n",
    "gender_dict = {1 : \"남자\", 2 : \"여자\"}\n",
    "df[\"성별\"] = df[\"성별코드\"].map(gender_dict)"
   ]
  },
  {
   "cell_type": "code",
   "execution_count": null,
   "metadata": {
    "colab": {
     "base_uri": "https://localhost:8080/",
     "height": 354
    },
    "executionInfo": {
     "elapsed": 3,
     "status": "ok",
     "timestamp": 1640932048443,
     "user": {
      "displayName": "김진연",
      "photoUrl": "https://lh3.googleusercontent.com/a/default-user=s64",
      "userId": "15053695256072630202"
     },
     "user_tz": -540
    },
    "id": "k5zPRCVz9YOa",
    "outputId": "1a39f0f9-d6f7-414f-9b55-a2ec0408992b"
   },
   "outputs": [],
   "source": [
    "# df 윗부분 일부 행을 확인합니다.\n",
    "df.head()"
   ]
  },
  {
   "cell_type": "markdown",
   "metadata": {
    "id": "DyP936SZUOhn"
   },
   "source": [
    "### 파생변수 만들기 - 투여경로, 제형\n",
    "* \"약품일반성분명코드\" 변수는 여러 정보를 복합적으로 담고 있는 변수입니다.\n",
    "* 관련 정보는 아래 링크를 확인해주세요.\n",
    "* https://www.health.kr/drug_info/basedrug/main_ingredient.html\n",
    "* 이 중에서 투여 경로와 약의 제형을 새로운 변수로 선언하겠습니다.\n",
    "* pandas에서의 텍스트 데이터 다루기 : https://pandas.pydata.org/pandas-docs/stable/user_guide/text.html"
   ]
  },
  {
   "cell_type": "code",
   "execution_count": null,
   "metadata": {},
   "outputs": [],
   "source": [
    "drug_type = \"내복제:A, 주사제:B, 외용제:C, 기타:D\"\n",
    "drug_type_dict = {drt.split(\":\")[1].strip() : drt.split(\":\")[0].strip() for drt in drug_type.split(\",\")}\n",
    "drug_type_dict"
   ]
  },
  {
   "cell_type": "code",
   "execution_count": null,
   "metadata": {},
   "outputs": [],
   "source": [
    "df[\"약품일반성분명코드\"].head(1)"
   ]
  },
  {
   "cell_type": "code",
   "execution_count": null,
   "metadata": {
    "colab": {
     "base_uri": "https://localhost:8080/",
     "height": 850
    },
    "executionInfo": {
     "elapsed": 2083,
     "status": "ok",
     "timestamp": 1640932055017,
     "user": {
      "displayName": "김진연",
      "photoUrl": "https://lh3.googleusercontent.com/a/default-user=s64",
      "userId": "15053695256072630202"
     },
     "user_tz": -540
    },
    "id": "J366zY1G4kGr",
    "outputId": "8bed4eef-f27e-4200-950b-f1d07a65e222"
   },
   "outputs": [],
   "source": [
    "# DataFrame에서 문자열 정보에 접근하고 싶을 때 .str을 이용합니다.\n",
    "# 문자열 중에서 일부 정보만 원할 경우 문자열 슬라이싱을 이용해서 일부만 가져올 수 있습니다.\n",
    "# \"약품일반성분명코드\"에서 투여경로에 해당하는 정보만 가져와 \"투여경로\" 변수로 선언하겠습니다.\n",
    "# \"약품일반성분명코드\"에서 제형에 해당하는 정보만 가져와 \"제형\" 변수로 선언하겠습니다.\n",
    "# df를 확인합니다.\n",
    "df['투여경로'] = df[\"약품일반성분명코드\"].str[6].map(drug_type_dict)\n",
    "df['제형코드'] = df[\"약품일반성분명코드\"].str[-2:]"
   ]
  },
  {
   "cell_type": "code",
   "execution_count": null,
   "metadata": {
    "scrolled": true
   },
   "outputs": [],
   "source": [
    "df[\"투여경로\"].value_counts()"
   ]
  },
  {
   "cell_type": "code",
   "execution_count": null,
   "metadata": {
    "scrolled": true
   },
   "outputs": [],
   "source": [
    "table = pd.read_html(\"https://www.health.kr/drug_info/basedrug/main_ingredient.html\")[1]\n",
    "df_table = table[[\"제형코드\", \"제형명칭\"]]\n",
    "df_table.head(2)"
   ]
  },
  {
   "cell_type": "code",
   "execution_count": null,
   "metadata": {},
   "outputs": [],
   "source": [
    "# 딕셔너리 변환방법\n",
    "drug_dict = df_table.set_index(\"제형코드\")[\"제형명칭\"].to_dict()\n",
    "drug_dict"
   ]
  },
  {
   "cell_type": "code",
   "execution_count": null,
   "metadata": {},
   "outputs": [],
   "source": [
    "df = df.merge(df_table, on=\"제형코드\", how=\"left\")\n",
    "df.shape"
   ]
  },
  {
   "cell_type": "code",
   "execution_count": null,
   "metadata": {},
   "outputs": [],
   "source": [
    "df.head()"
   ]
  },
  {
   "cell_type": "code",
   "execution_count": null,
   "metadata": {},
   "outputs": [],
   "source": [
    "df[\"약품일반성분명코드\"].str.replace(\"[0-9]\", \"\", regex=True).str[0]"
   ]
  },
  {
   "cell_type": "markdown",
   "metadata": {
    "id": "01UWemXo-gM7"
   },
   "source": [
    "## 전체 데이터 분석 및 시각화\n",
    "\n",
    "### 기술 통계"
   ]
  },
  {
   "cell_type": "code",
   "execution_count": null,
   "metadata": {
    "colab": {
     "base_uri": "https://localhost:8080/",
     "height": 382
    },
    "executionInfo": {
     "elapsed": 2357,
     "status": "ok",
     "timestamp": 1640932062648,
     "user": {
      "displayName": "김진연",
      "photoUrl": "https://lh3.googleusercontent.com/a/default-user=s64",
      "userId": "15053695256072630202"
     },
     "user_tz": -540
    },
    "id": "aRU0Km9DhzrA",
    "outputId": "ac7d9bfc-f958-4512-e890-3015cf203a89"
   },
   "outputs": [],
   "source": [
    "# 기술 통계를 생성합니다.\n",
    "df.describe().T"
   ]
  },
  {
   "cell_type": "code",
   "execution_count": null,
   "metadata": {},
   "outputs": [],
   "source": [
    "# 20개의 약을 처방받은 가입자 찾기\n",
    "drug_20 = df.loc[df[\"일련번호\"] == df[\"일련번호\"].max(), \"처방내역일련번호\"]\n",
    "\n",
    "df[df[\"처방내역일련번호\"].isin(drug_20)].sort_values([\"처방내역일련번호\", \"일련번호\"])"
   ]
  },
  {
   "cell_type": "code",
   "execution_count": null,
   "metadata": {},
   "outputs": [],
   "source": [
    "df.describe(include=\"object\")"
   ]
  },
  {
   "cell_type": "code",
   "execution_count": null,
   "metadata": {},
   "outputs": [],
   "source": [
    "df.info()"
   ]
  },
  {
   "cell_type": "code",
   "execution_count": null,
   "metadata": {},
   "outputs": [],
   "source": [
    "df[df[\"금액\"] == df[\"금액\"].max()]"
   ]
  },
  {
   "cell_type": "markdown",
   "metadata": {},
   "source": [
    "## 히스토그램"
   ]
  },
  {
   "cell_type": "code",
   "execution_count": null,
   "metadata": {},
   "outputs": [],
   "source": [
    "df.hist(bins=50, figsize=(15, 10));"
   ]
  },
  {
   "cell_type": "markdown",
   "metadata": {
    "id": "fEHFxXxbN2A5"
   },
   "source": [
    "## 상관 분석\n",
    "\n",
    "상관 분석(相關 分析, Correlation analysis) 또는 '상관관계' 또는 '상관'은 확률론과 통계학에서 두 변수간에 어떤 선형적 또는 비선형적 관계를 갖고 있는지를 분석하는 방법이다. 두 변수는 서로 독립적인 관계이거나 상관된 관계일 수 있으며 이때 두 변수간의 관계의 강도를 상관관계(Correlation, Correlation coefficient)라 한다. 상관분석에서는 상관관계의 정도를 나타내는 단위로 모상관계수로 ρ를 사용하며 표본 상관 계수로 r 을 사용한다.\n",
    "\n",
    "상관관계의 정도를 파악하는 상관 계수(相關係數, Correlation coefficient)는 두 변수간의 연관된 정도를 나타낼 뿐 인과관계를 설명하는 것은 아니다. 두 변수간에 원인과 결과의 인과관계가 있는지에 대한 것은 회귀분석을 통해 인과관계의 방향, 정도와 수학적 모델을 확인해 볼 수 있다.\n",
    "\n",
    "* 출처 : https://ko.wikipedia.org/wiki/%EC%83%81%EA%B4%80_%EB%B6%84%EC%84%9D\n",
    "\n",
    "### 피어슨 상관계수\n",
    "\n",
    "* r 값은 X 와 Y 가 완전히 동일하면 +1, 전혀 다르면 0, 반대방향으로 완전히 동일 하면 –1 을 가진다. \n",
    "* 결정계수(coefficient of determination)는 r^2 로 계산하며 이것은 X 로부터 Y 를 예측할 수 있는 정도를 의미한다.\n",
    "\n",
    "<img src=\"https://upload.wikimedia.org/wikipedia/commons/thumb/d/d4/Correlation_examples2.svg/800px-Correlation_examples2.svg.png\" width=\"500\">\n",
    "\n",
    "```\n",
    "일반적으로\n",
    "r이 -1.0과 -0.7 사이이면, 강한 음적 선형관계,\n",
    "r이 -0.7과 -0.3 사이이면, 뚜렷한 음적 선형관계,\n",
    "r이 -0.3과 -0.1 사이이면, 약한 음적 선형관계,\n",
    "r이 -0.1과 +0.1 사이이면, 거의 무시될 수 있는 선형관계,\n",
    "r이 +0.1과 +0.3 사이이면, 약한 양적 선형관계,\n",
    "r이 +0.3과 +0.7 사이이면, 뚜렷한 양적 선형관계,\n",
    "r이 +0.7과 +1.0 사이이면, 강한 양적 선형관계\n",
    "```\n",
    "\n",
    "<img src=\"https://upload.wikimedia.org/wikipedia/commons/3/34/Correlation_coefficient.png\" width=500>\n",
    "\n",
    "* 출처 :  https://ko.wikipedia.org/wiki/%EC%83%81%EA%B4%80_%EB%B6%84%EC%84%9D#%ED%94%BC%EC%96%B4%EC%8A%A8_%EC%83%81%EA%B4%80_%EA%B3%84%EC%88%98\n",
    "\n",
    "\n",
    "\n",
    "### 상관계수 구하기\n",
    "\n",
    "* corr()은 NA/null 값을 제외한 열의 쌍별 상관 관계를 계산합니다. 기본값은 피어슨 상관계수입니다.\n",
    "* https://en.wikipedia.org/wiki/Pearson_correlation_coefficient"
   ]
  },
  {
   "cell_type": "code",
   "execution_count": null,
   "metadata": {
    "colab": {
     "base_uri": "https://localhost:8080/",
     "height": 598
    },
    "executionInfo": {
     "elapsed": 2543,
     "status": "ok",
     "timestamp": 1640933039395,
     "user": {
      "displayName": "김진연",
      "photoUrl": "https://lh3.googleusercontent.com/a/default-user=s64",
      "userId": "15053695256072630202"
     },
     "user_tz": -540
    },
    "id": "sWPdx3iZggRr",
    "outputId": "3dbcf54a-6428-458c-b159-73de5c2dace5"
   },
   "outputs": [],
   "source": [
    "# df의 상관관계를 구합니다.\n",
    "corr = df.select_dtypes(include=\"number\").corr()"
   ]
  },
  {
   "cell_type": "code",
   "execution_count": null,
   "metadata": {},
   "outputs": [],
   "source": [
    "np.ones([2, 3])"
   ]
  },
  {
   "cell_type": "code",
   "execution_count": null,
   "metadata": {},
   "outputs": [],
   "source": [
    "# np.zeros_like(corr)"
   ]
  },
  {
   "cell_type": "code",
   "execution_count": null,
   "metadata": {},
   "outputs": [],
   "source": [
    "# 1로 채워진 array 만들기\n",
    "# np.ones(corr.shape)\n",
    "mask = np.triu(np.ones_like(corr))"
   ]
  },
  {
   "cell_type": "code",
   "execution_count": null,
   "metadata": {
    "colab": {
     "base_uri": "https://localhost:8080/",
     "height": 1000
    },
    "executionInfo": {
     "elapsed": 5282,
     "status": "ok",
     "timestamp": 1640933048697,
     "user": {
      "displayName": "김진연",
      "photoUrl": "https://lh3.googleusercontent.com/a/default-user=s64",
      "userId": "15053695256072630202"
     },
     "user_tz": -540
    },
    "id": "2YG1T-GmJa9v",
    "outputId": "ac10c3cf-e1e0-4e2d-a789-d940d3d2d672"
   },
   "outputs": [],
   "source": [
    "# NA/null 값을 제외한 열의 쌍별 상관 관계에 대해 heatmap을 그립니다.\n",
    "plt.figure(figsize=(12, 5))\n",
    "sns.heatmap(corr, annot=True, fmt=\".2f\", cmap=\"coolwarm\", vmin=-1, vmax=1, mask=mask)"
   ]
  },
  {
   "cell_type": "markdown",
   "metadata": {},
   "source": [
    "## 기간별 처방\n",
    "### 월별 처방 수"
   ]
  },
  {
   "cell_type": "code",
   "execution_count": null,
   "metadata": {
    "colab": {
     "base_uri": "https://localhost:8080/",
     "height": 628
    },
    "executionInfo": {
     "elapsed": 980,
     "status": "ok",
     "timestamp": 1640933049673,
     "user": {
      "displayName": "김진연",
      "photoUrl": "https://lh3.googleusercontent.com/a/default-user=s64",
      "userId": "15053695256072630202"
     },
     "user_tz": -540
    },
    "id": "QpPnrvHA95F7",
    "outputId": "cf1442eb-df24-41c8-e1f6-8aec77b5ff1c"
   },
   "outputs": [],
   "source": [
    "# 월별 처방 횟수를 시각화합니다.\n",
    "plt.figure(figsize=(20, 4))\n",
    "sns.countplot(data=df, x=\"월\")"
   ]
  },
  {
   "cell_type": "code",
   "execution_count": null,
   "metadata": {},
   "outputs": [],
   "source": [
    "df[\"월\"].value_counts().plot.bar(figsize=(20, 2), rot=0)"
   ]
  },
  {
   "cell_type": "markdown",
   "metadata": {
    "id": "y52LImWXVtAl"
   },
   "source": [
    "* 여름에 처방 횟수가 적고, 겨울과 환절기에 처방 횟수가 늘어나는 경향을 확인할 수 있습니다.\n",
    "\n",
    "### 일별 처방 수"
   ]
  },
  {
   "cell_type": "code",
   "execution_count": null,
   "metadata": {
    "colab": {
     "base_uri": "https://localhost:8080/",
     "height": 628
    },
    "executionInfo": {
     "elapsed": 1239,
     "status": "ok",
     "timestamp": 1640933050909,
     "user": {
      "displayName": "김진연",
      "photoUrl": "https://lh3.googleusercontent.com/a/default-user=s64",
      "userId": "15053695256072630202"
     },
     "user_tz": -540
    },
    "id": "mWl7K6xA_4kV",
    "outputId": "4923d9be-d47d-45e1-9418-dda412f5fd4c"
   },
   "outputs": [],
   "source": [
    "# 일별 처방횟수를 시각화합니다.\n",
    "plt.figure(figsize=(20, 4))\n",
    "sns.countplot(data=df, x=\"일\")"
   ]
  },
  {
   "cell_type": "markdown",
   "metadata": {},
   "source": [
    "* 31일의 데이터가 다른 날짜에 비해 유난히 적은 것을 확인할 수 있습니다.\n",
    "* 이유가 무엇일까요?\n",
    "\n",
    "### 요일별 처방수"
   ]
  },
  {
   "cell_type": "code",
   "execution_count": null,
   "metadata": {},
   "outputs": [],
   "source": [
    "df.columns"
   ]
  },
  {
   "cell_type": "code",
   "execution_count": null,
   "metadata": {
    "colab": {
     "base_uri": "https://localhost:8080/",
     "height": 628
    },
    "executionInfo": {
     "elapsed": 9640,
     "status": "ok",
     "timestamp": 1640933060547,
     "user": {
      "displayName": "김진연",
      "photoUrl": "https://lh3.googleusercontent.com/a/default-user=s64",
      "userId": "15053695256072630202"
     },
     "user_tz": -540
    },
    "id": "Jwx4IXnP-uF8",
    "outputId": "e790a6df-f21f-491b-c0f4-77722fe72ee5"
   },
   "outputs": [],
   "source": [
    "# 요일별 처방횟수를 시각화합니다.\n",
    "# 단, 월요일부터 일요일까지 순서대로 출력되어야 합니다.\n",
    "plt.figure(figsize=(20, 4))\n",
    "sns.countplot(data=df.sort_values(\"요일\"), x=\"영문요일\")"
   ]
  },
  {
   "cell_type": "code",
   "execution_count": null,
   "metadata": {},
   "outputs": [],
   "source": [
    "list(range(7))"
   ]
  },
  {
   "cell_type": "code",
   "execution_count": null,
   "metadata": {},
   "outputs": [],
   "source": [
    "df[\"요일명\"] = df[\"요일\"].map(lambda x : \"월화수목금토일\"[x])"
   ]
  },
  {
   "cell_type": "code",
   "execution_count": null,
   "metadata": {},
   "outputs": [],
   "source": [
    "plt.figure(figsize=(20, 4))\n",
    "sns.countplot(data=df, x=\"요일명\", order=list(\"월화수목금토일\"))"
   ]
  },
  {
   "cell_type": "markdown",
   "metadata": {
    "id": "3Lfk90yLV53-"
   },
   "source": [
    "* 월요일이 가장 많고, 일요일이 가장 적습니다.\n",
    "* 평일 중에서는 월요일과 금요일이 가장 많고 화, 목, 수 순서로 많습니다."
   ]
  },
  {
   "cell_type": "markdown",
   "metadata": {},
   "source": [
    "## 연령대별 처방수"
   ]
  },
  {
   "cell_type": "code",
   "execution_count": null,
   "metadata": {},
   "outputs": [],
   "source": [
    "df.columns"
   ]
  },
  {
   "cell_type": "code",
   "execution_count": null,
   "metadata": {},
   "outputs": [],
   "source": [
    "age_dict.values()"
   ]
  },
  {
   "cell_type": "code",
   "execution_count": null,
   "metadata": {
    "colab": {
     "base_uri": "https://localhost:8080/",
     "height": 628
    },
    "executionInfo": {
     "elapsed": 7223,
     "status": "ok",
     "timestamp": 1640933067769,
     "user": {
      "displayName": "김진연",
      "photoUrl": "https://lh3.googleusercontent.com/a/default-user=s64",
      "userId": "15053695256072630202"
     },
     "user_tz": -540
    },
    "id": "M-vRENBfFBrw",
    "outputId": "70ced19b-adaf-430c-8066-4dff4557a481"
   },
   "outputs": [],
   "source": [
    "# 연령대별 처방횟수를 시각화합니다.\n",
    "# 단, 저연령대부터 고연령대까지 순서대로 출력되어야 합니다.\n",
    "plt.figure(figsize=(20, 4))\n",
    "sns.countplot(data=df.sort_values('연령대'), x=\"연령대\")"
   ]
  },
  {
   "cell_type": "code",
   "execution_count": null,
   "metadata": {},
   "outputs": [],
   "source": [
    "age_dict.values()"
   ]
  },
  {
   "cell_type": "code",
   "execution_count": null,
   "metadata": {},
   "outputs": [],
   "source": [
    "plt.figure(figsize=(20, 4))\n",
    "sns.countplot(data=df, x=\"연령대\", order=age_dict.values())"
   ]
  },
  {
   "cell_type": "markdown",
   "metadata": {},
   "source": [
    "### 연령대-성별 처방수"
   ]
  },
  {
   "cell_type": "code",
   "execution_count": null,
   "metadata": {
    "colab": {
     "base_uri": "https://localhost:8080/",
     "height": 628
    },
    "executionInfo": {
     "elapsed": 8821,
     "status": "ok",
     "timestamp": 1640933076586,
     "user": {
      "displayName": "김진연",
      "photoUrl": "https://lh3.googleusercontent.com/a/default-user=s64",
      "userId": "15053695256072630202"
     },
     "user_tz": -540
    },
    "id": "xnj5HSO-FbxF",
    "outputId": "a7d70dab-b733-4ba6-dac6-a0bd81efc819"
   },
   "outputs": [],
   "source": [
    "# 연령별 처방횟수를 순서대로 출력하되 성별을 기준으로 나누어 출력합니다.\n",
    "plt.figure(figsize=(20, 4))\n",
    "sns.countplot(data=df.sort_values('연령대코드(5세단위)'), x=\"연령대\", hue=\"성별\")"
   ]
  },
  {
   "cell_type": "markdown",
   "metadata": {
    "id": "XyVrSCciWv-K"
   },
   "source": [
    "* 데이터상 중장년층 여성의 데이터가 부각되어 보입니다.\n",
    "* 그렇다면 중장년층 여성이 다른 그룹에 비해 건강이 취약한 것일까요?\n",
    "* 이것에 대해서 생각해 봅시다."
   ]
  },
  {
   "cell_type": "markdown",
   "metadata": {
    "id": "A6HnyI5IXAR6"
   },
   "source": [
    "## 그룹별 분석\n",
    "### pandas groupby\n",
    "* <img src = 'https://pandas.pydata.org/docs/_images/06_groupby.svg' width=\"800\">\n",
    "* pandas에서는 DataFrame을 변수의 값에 따라 그룹별로 나눠 분석할 수 있도록 groupby() 메서드를 지원하고 있습니다.\n",
    "* groupby()를 이용하여 데이터를 나눠 분석해보겠습니다."
   ]
  },
  {
   "cell_type": "code",
   "execution_count": null,
   "metadata": {
    "colab": {
     "base_uri": "https://localhost:8080/"
    },
    "executionInfo": {
     "elapsed": 369,
     "status": "ok",
     "timestamp": 1640933100671,
     "user": {
      "displayName": "김진연",
      "photoUrl": "https://lh3.googleusercontent.com/a/default-user=s64",
      "userId": "15053695256072630202"
     },
     "user_tz": -540
    },
    "id": "ErVkSI7pXaVI",
    "outputId": "6160abac-4c94-4b31-b511-4e11827ba5d6"
   },
   "outputs": [],
   "source": [
    "df.groupby([\"연령대\", \"성별\"])[\"금액\"].sum().unstack().plot.bar(figsize=(10, 3))"
   ]
  },
  {
   "cell_type": "code",
   "execution_count": null,
   "metadata": {},
   "outputs": [],
   "source": [
    "df.groupby([\"연령대\", \"성별\"])[\"금액\"].mean().unstack().plot.bar(figsize=(10, 3), title=\"평균 처방 금액\")"
   ]
  },
  {
   "cell_type": "markdown",
   "metadata": {
    "id": "m8jxWPAEXepA"
   },
   "source": [
    "* <pandas.core.groupby.generic.DataFrameGroupBy object ... > 문구가 보입니다.\n",
    "* groupby 메서드로 생성된 결과물은 DataFrameGroupBy object로 DataFrame과는 다릅니다.\n",
    "* DataFrameGroupBy object에는 여러 메서드를 적용할 수 있습니다.\n",
    "* groupby() 메서드 뒤에 다른 메서드를 바로 붙여서 사용할 수 있는 것입니다.\n",
    "* 이렇게 여러 메서드를 붙여 사용하는 것을 **메서드 체이닝**이라고 합니다."
   ]
  },
  {
   "cell_type": "code",
   "execution_count": null,
   "metadata": {
    "colab": {
     "base_uri": "https://localhost:8080/",
     "height": 689
    },
    "executionInfo": {
     "elapsed": 1090,
     "status": "ok",
     "timestamp": 1640933102201,
     "user": {
      "displayName": "김진연",
      "photoUrl": "https://lh3.googleusercontent.com/a/default-user=s64",
      "userId": "15053695256072630202"
     },
     "user_tz": -540
    },
    "id": "KsrPrTgfieFy",
    "outputId": "5dbc4520-c521-4588-eb14-1fc614816980"
   },
   "outputs": [],
   "source": [
    "# df를 연령대로 나눈 다음, 합을 출력하겠습니다.\n",
    "df.pivot_table(index=\"연령대\", columns=\"성별\", values=\"금액\", aggfunc=\"sum\"\n",
    "              ).plot.bar(figsize=(10, 2), title=\"연령대 성별 금액 합계\")"
   ]
  },
  {
   "cell_type": "code",
   "execution_count": null,
   "metadata": {
    "colab": {
     "base_uri": "https://localhost:8080/",
     "height": 689
    },
    "executionInfo": {
     "elapsed": 997,
     "status": "ok",
     "timestamp": 1640933103510,
     "user": {
      "displayName": "김진연",
      "photoUrl": "https://lh3.googleusercontent.com/a/default-user=s64",
      "userId": "15053695256072630202"
     },
     "user_tz": -540
    },
    "id": "40fdHCtdjKbU",
    "outputId": "239a1279-cee4-41ef-ff3c-144350e851de"
   },
   "outputs": [],
   "source": [
    "# df를 연령대로 나눈 다음, 평균을 출력하겠습니다.\n",
    "df.pivot_table(index=\"연령대\", columns=\"성별\", values=\"금액\", aggfunc=\"mean\"\n",
    "              ).plot.bar(figsize=(10, 2), title=\"연령대 성별 금액 합계\")"
   ]
  },
  {
   "cell_type": "markdown",
   "metadata": {},
   "source": [
    "### 연령대별 평균단가"
   ]
  },
  {
   "cell_type": "code",
   "execution_count": null,
   "metadata": {
    "colab": {
     "base_uri": "https://localhost:8080/",
     "height": 628
    },
    "executionInfo": {
     "elapsed": 1924,
     "status": "ok",
     "timestamp": 1640933105431,
     "user": {
      "displayName": "김진연",
      "photoUrl": "https://lh3.googleusercontent.com/a/default-user=s64",
      "userId": "15053695256072630202"
     },
     "user_tz": -540
    },
    "id": "xQiB7CCAiFL0",
    "outputId": "27a8d852-01c9-4e8e-eb1c-1de838327655"
   },
   "outputs": [],
   "source": [
    "# barplot 으로 연령대별 평균 단가를 시각화 합니다.\n",
    "plt.figure(figsize=(20, 4))\n",
    "sns.barplot(data=df, x=\"연령대\", y=\"단가\", order=age_dict.values(), ci=None) # ci 경고 메시지가 난다면 errorbar=None"
   ]
  },
  {
   "cell_type": "code",
   "execution_count": null,
   "metadata": {
    "colab": {
     "base_uri": "https://localhost:8080/",
     "height": 628
    },
    "executionInfo": {
     "elapsed": 1444,
     "status": "ok",
     "timestamp": 1640923649038,
     "user": {
      "displayName": "김진연",
      "photoUrl": "https://lh3.googleusercontent.com/a/default-user=s64",
      "userId": "15053695256072630202"
     },
     "user_tz": -540
    },
    "id": "nrpnuPFpnv-n",
    "outputId": "1d9f18fa-059c-47d1-ca4a-b436d887bb91"
   },
   "outputs": [],
   "source": [
    "# 연령대별 빈도수 시각화\n",
    "\n",
    "plt.figure(figsize=(20, 4))\n",
    "sns.countplot(data=df.sort_values(\"연령대\"), x=\"연령대\") "
   ]
  },
  {
   "cell_type": "markdown",
   "metadata": {},
   "source": [
    "### 투여경로"
   ]
  },
  {
   "cell_type": "code",
   "execution_count": null,
   "metadata": {
    "colab": {
     "base_uri": "https://localhost:8080/",
     "height": 175
    },
    "executionInfo": {
     "elapsed": 1390,
     "status": "ok",
     "timestamp": 1640923653575,
     "user": {
      "displayName": "김진연",
      "photoUrl": "https://lh3.googleusercontent.com/a/default-user=s64",
      "userId": "15053695256072630202"
     },
     "user_tz": -540
    },
    "id": "M3iM-MMecMMz",
    "outputId": "c0b2af3b-9256-411e-cb2a-6c8bb303d8fd"
   },
   "outputs": [],
   "source": [
    "# \"투여경로\"별 빈도수를 시각화를 합니다.\n",
    "sns.countplot(data=df, y=\"투여경로\")"
   ]
  },
  {
   "cell_type": "markdown",
   "metadata": {},
   "source": [
    "### 단가"
   ]
  },
  {
   "cell_type": "code",
   "execution_count": null,
   "metadata": {
    "colab": {
     "base_uri": "https://localhost:8080/",
     "height": 631
    },
    "executionInfo": {
     "elapsed": 678,
     "status": "ok",
     "timestamp": 1640923655445,
     "user": {
      "displayName": "김진연",
      "photoUrl": "https://lh3.googleusercontent.com/a/default-user=s64",
      "userId": "15053695256072630202"
     },
     "user_tz": -540
    },
    "id": "az80sUPndeVC",
    "outputId": "4af287ce-a77e-4e8d-9466-46b02787c182"
   },
   "outputs": [],
   "source": [
    "# 투여경로별 평균 단가를 확인합니다.\n",
    "plt.figure(figsize=(20, 4))\n",
    "sns.barplot(data=df, x=\"투여경로\", y=\"단가\")"
   ]
  },
  {
   "cell_type": "markdown",
   "metadata": {},
   "source": [
    "### 총투여일수"
   ]
  },
  {
   "cell_type": "code",
   "execution_count": null,
   "metadata": {
    "colab": {
     "base_uri": "https://localhost:8080/",
     "height": 628
    },
    "executionInfo": {
     "elapsed": 786,
     "status": "ok",
     "timestamp": 1640923661667,
     "user": {
      "displayName": "김진연",
      "photoUrl": "https://lh3.googleusercontent.com/a/default-user=s64",
      "userId": "15053695256072630202"
     },
     "user_tz": -540
    },
    "id": "RmZ85ayoc8dg",
    "outputId": "119c49d9-0d4d-4141-dc82-ed59f3aedcd0"
   },
   "outputs": [],
   "source": [
    "# 투여경로별 평균 총투여일수를 확인합니다.\n",
    "plt.figure(figsize=(20, 4))\n",
    "sns.barplot(data=df, x=\"투여경로\", y=\"총투여일수\")"
   ]
  },
  {
   "cell_type": "markdown",
   "metadata": {},
   "source": [
    "### 1회 투약량"
   ]
  },
  {
   "cell_type": "code",
   "execution_count": null,
   "metadata": {
    "colab": {
     "base_uri": "https://localhost:8080/",
     "height": 628
    },
    "executionInfo": {
     "elapsed": 664,
     "status": "ok",
     "timestamp": 1640923663576,
     "user": {
      "displayName": "김진연",
      "photoUrl": "https://lh3.googleusercontent.com/a/default-user=s64",
      "userId": "15053695256072630202"
     },
     "user_tz": -540
    },
    "id": "raXxp86AdVGJ",
    "outputId": "0652ef71-d727-4531-b8c8-334e21c8e7fd"
   },
   "outputs": [],
   "source": [
    "# 투여경로별 1회 투약량을 확인합니다.\n",
    "# 제형에 따라 투약량에 대한 단위가 다른 것에 주의해 주세요!\n",
    "plt.figure(figsize=(20, 4))\n",
    "sns.barplot(data=df, x=\"투여경로\", y=\"1회 투약량\")"
   ]
  },
  {
   "cell_type": "markdown",
   "metadata": {},
   "source": [
    "### 연령대별, 투여경로"
   ]
  },
  {
   "cell_type": "code",
   "execution_count": null,
   "metadata": {
    "colab": {
     "base_uri": "https://localhost:8080/",
     "height": 628
    },
    "executionInfo": {
     "elapsed": 768,
     "status": "ok",
     "timestamp": 1640923670584,
     "user": {
      "displayName": "김진연",
      "photoUrl": "https://lh3.googleusercontent.com/a/default-user=s64",
      "userId": "15053695256072630202"
     },
     "user_tz": -540
    },
    "id": "O85H5fPPeReh",
    "outputId": "73dcf0fe-c932-416c-d2ec-ade15ad4eee2"
   },
   "outputs": [],
   "source": [
    "# 연령대에 대해 투여경로의 약 처방 횟수를 막대 그래프로 나타내겠습니다.\n",
    "plt.figure(figsize=(20, 4))\n",
    "sns.countplot(data=df.sort_values(\"연령대\"), x=\"연령대\", hue=\"투여경로\")"
   ]
  },
  {
   "cell_type": "code",
   "execution_count": null,
   "metadata": {},
   "outputs": [],
   "source": [
    "plt.figure(figsize=(20, 4))\n",
    "sns.countplot(data=df[df[\"투여경로\"] == \"주사제\"].sort_values(\"연령대\"), x=\"연령대\")"
   ]
  },
  {
   "cell_type": "code",
   "execution_count": null,
   "metadata": {},
   "outputs": [],
   "source": [
    "df.columns"
   ]
  },
  {
   "cell_type": "code",
   "execution_count": null,
   "metadata": {},
   "outputs": [],
   "source": [
    "plt.figure(figsize=(20, 4))\n",
    "sns.barplot(data=df[df[\"투여경로\"] == \"주사제\"].sort_values(\"연령대\"), \n",
    "            x=\"연령대\", y=\"총투여일수\", estimator=np.sum)"
   ]
  },
  {
   "cell_type": "markdown",
   "metadata": {},
   "source": [
    "## 파일 저장하기\n",
    "\n",
    "* ChatGPT를 활용하여 df 변수에 있는 데이터를 월별로 엑설 형태로 저장해 주세요."
   ]
  },
  {
   "cell_type": "code",
   "execution_count": null,
   "metadata": {},
   "outputs": [],
   "source": [
    "# df 변수에 있는 데이터를 월별로 분할합니다.\n",
    "df_by_month = {}\n",
    "for month in df['월'].unique():\n",
    "    df_by_month[month] = df[df['월'] == month]\n",
    "\n",
    "# 월별 데이터를 별도의 시트로 엑셀 파일로 저장합니다.\n",
    "with pd.ExcelWriter('월별_처방_데이터.xlsx') as writer:\n",
    "    for month, df_month in df_by_month.items():\n",
    "        df_month.to_excel(writer, sheet_name=f'월_{month}', index=False)"
   ]
  },
  {
   "cell_type": "markdown",
   "metadata": {},
   "source": [
    "## 저장한 엑셀 파일 하나의 데이터프레임으로 불러오기\n",
    "\n",
    "* ChatGPT를 활용하여 엑셀의 시트 여러 개를 한번에 불러오고 하나의 데이터프레임으로 합쳐주세요."
   ]
  },
  {
   "cell_type": "code",
   "execution_count": null,
   "metadata": {},
   "outputs": [],
   "source": []
  },
  {
   "cell_type": "code",
   "execution_count": null,
   "metadata": {},
   "outputs": [],
   "source": []
  }
 ],
 "metadata": {
  "colab": {
   "authorship_tag": "ABX9TyM4G0s1dJRIvkuLc1CoEdqu",
   "collapsed_sections": [
    "XRfe3_uXJRes",
    "UGNhR09W0Nij"
   ],
   "name": "의약품처방정보_전처리&시각화.ipynb",
   "provenance": [],
   "toc_visible": true
  },
  "kernelspec": {
   "display_name": "Python 3 (ipykernel)",
   "language": "python",
   "name": "python3"
  },
  "language_info": {
   "codemirror_mode": {
    "name": "ipython",
    "version": 3
   },
   "file_extension": ".py",
   "mimetype": "text/x-python",
   "name": "python",
   "nbconvert_exporter": "python",
   "pygments_lexer": "ipython3",
   "version": "3.11.4"
  },
  "toc": {
   "base_numbering": 1,
   "nav_menu": {},
   "number_sections": true,
   "sideBar": true,
   "skip_h1_title": false,
   "title_cell": "Table of Contents",
   "title_sidebar": "Contents",
   "toc_cell": false,
   "toc_position": {
    "height": "calc(100% - 180px)",
    "left": "10px",
    "top": "150px",
    "width": "256px"
   },
   "toc_section_display": true,
   "toc_window_display": false
  },
  "varInspector": {
   "cols": {
    "lenName": 16,
    "lenType": 16,
    "lenVar": 40
   },
   "kernels_config": {
    "python": {
     "delete_cmd_postfix": "",
     "delete_cmd_prefix": "del ",
     "library": "var_list.py",
     "varRefreshCmd": "print(var_dic_list())"
    },
    "r": {
     "delete_cmd_postfix": ") ",
     "delete_cmd_prefix": "rm(",
     "library": "var_list.r",
     "varRefreshCmd": "cat(var_dic_list()) "
    }
   },
   "types_to_exclude": [
    "module",
    "function",
    "builtin_function_or_method",
    "instance",
    "_Feature"
   ],
   "window_display": false
  }
 },
 "nbformat": 4,
 "nbformat_minor": 4
}
